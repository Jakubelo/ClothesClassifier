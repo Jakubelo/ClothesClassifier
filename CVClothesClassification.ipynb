{
  "nbformat": 4,
  "nbformat_minor": 0,
  "metadata": {
    "colab": {
      "name": "CVClothesClassification.ipynb",
      "provenance": [],
      "authorship_tag": "ABX9TyMvGw5r8AzaTgxyGzLLNdon",
      "include_colab_link": true
    },
    "kernelspec": {
      "name": "python3",
      "display_name": "Python 3"
    },
    "language_info": {
      "name": "python"
    }
  },
  "cells": [
    {
      "cell_type": "markdown",
      "metadata": {
        "id": "view-in-github",
        "colab_type": "text"
      },
      "source": [
        "<a href=\"https://colab.research.google.com/github/Jakubelo/ClothesClassifier/blob/main/CVClothesClassification.ipynb\" target=\"_parent\"><img src=\"https://colab.research.google.com/assets/colab-badge.svg\" alt=\"Open In Colab\"/></a>"
      ]
    },
    {
      "cell_type": "code",
      "metadata": {
        "id": "GDsjT4dtdvl4"
      },
      "source": [
        "from google.colab import drive\n",
        "drive.mount('/content/gdrive')"
      ],
      "execution_count": 5,
      "outputs": []
    },
    {
      "cell_type": "code",
      "metadata": {
        "colab": {
          "base_uri": "https://localhost:8080/"
        },
        "id": "9yC-2r3qhBuP",
        "outputId": "57e86a8b-256b-4692-e000-80acc07804c1"
      },
      "source": [
        "! unzip --help"
      ],
      "execution_count": 11,
      "outputs": [
        {
          "output_type": "stream",
          "text": [
            "UnZip 6.00 of 20 April 2009, by Debian. Original by Info-ZIP.\n",
            "\n",
            "Usage: unzip [-Z] [-opts[modifiers]] file[.zip] [list] [-x xlist] [-d exdir]\n",
            "  Default action is to extract files in list, except those in xlist, to exdir;\n",
            "  file[.zip] may be a wildcard.  -Z => ZipInfo mode (\"unzip -Z\" for usage).\n",
            "\n",
            "  -p  extract files to pipe, no messages     -l  list files (short format)\n",
            "  -f  freshen existing files, create none    -t  test compressed archive data\n",
            "  -u  update files, create if necessary      -z  display archive comment only\n",
            "  -v  list verbosely/show version info       -T  timestamp archive to latest\n",
            "  -x  exclude files that follow (in xlist)   -d  extract files into exdir\n",
            "modifiers:\n",
            "  -n  never overwrite existing files         -q  quiet mode (-qq => quieter)\n",
            "  -o  overwrite files WITHOUT prompting      -a  auto-convert any text files\n",
            "  -j  junk paths (do not make directories)   -aa treat ALL files as text\n",
            "  -U  use escapes for all non-ASCII Unicode  -UU ignore any Unicode fields\n",
            "  -C  match filenames case-insensitively     -L  make (some) names lowercase\n",
            "  -X  restore UID/GID info                   -V  retain VMS version numbers\n",
            "  -K  keep setuid/setgid/tacky permissions   -M  pipe through \"more\" pager\n",
            "  -O CHARSET  specify a character encoding for DOS, Windows and OS/2 archives\n",
            "  -I CHARSET  specify a character encoding for UNIX and other archives\n",
            "\n",
            "See \"unzip -hh\" or unzip.txt for more help.  Examples:\n",
            "  unzip data1 -x joe   => extract all files except joe from zipfile data1.zip\n",
            "  unzip -p foo | more  => send contents of foo.zip via pipe into program more\n",
            "  unzip -fo foo ReadMe => quietly replace existing ReadMe if archive file newer\n"
          ],
          "name": "stdout"
        }
      ]
    },
    {
      "cell_type": "code",
      "metadata": {
        "colab": {
          "base_uri": "https://localhost:8080/"
        },
        "id": "66TEc9wud3yW",
        "outputId": "2f069de3-ce2d-4c89-c42e-7bf6b7eebe6a"
      },
      "source": [
        "gd_data_path = 'gdrive/MyDrive/ClothesData/'\n",
        "! unzip"
      ],
      "execution_count": 7,
      "outputs": [
        {
          "output_type": "stream",
          "text": [
            "Mounted at /content/gdrive\n"
          ],
          "name": "stdout"
        }
      ]
    },
    {
      "cell_type": "code",
      "metadata": {
        "id": "FqKSHPbOaO4_"
      },
      "source": [
        "import pandas as pd\n",
        "\n",
        "import torch\n",
        "import torchvision"
      ],
      "execution_count": 3,
      "outputs": []
    },
    {
      "cell_type": "code",
      "metadata": {
        "id": "aNdP9bazgUsG"
      },
      "source": [
        "from torch.utils.tensorboard import SummaryWriter as SW"
      ],
      "execution_count": 16,
      "outputs": []
    },
    {
      "cell_type": "code",
      "metadata": {
        "id": "Vj7dtXVvjIzs"
      },
      "source": [
        "SW('/content/runs')"
      ],
      "execution_count": null,
      "outputs": []
    },
    {
      "cell_type": "code",
      "metadata": {
        "colab": {
          "base_uri": "https://localhost:8080/"
        },
        "id": "iaeHAYULhea_",
        "outputId": "aaa21c90-918a-4a15-a8ca-42be128d368a"
      },
      "source": [
        "! tensorboard --help"
      ],
      "execution_count": 13,
      "outputs": [
        {
          "output_type": "stream",
          "text": [
            "2021-05-28 15:12:26.958283: I tensorflow/stream_executor/platform/default/dso_loader.cc:53] Successfully opened dynamic library libcudart.so.11.0\n",
            "usage: tensorboard [-h] [--helpfull] [--logdir PATH] [--logdir_spec PATH_SPEC]\n",
            "                   [--host ADDR] [--bind_all] [--port PORT]\n",
            "                   [--reuse_port BOOL] [--load_fast {false,auto,true}]\n",
            "                   [--extra_data_server_flags EXTRA_DATA_SERVER_FLAGS]\n",
            "                   [--grpc_creds_type {local,ssl,ssl_dev}]\n",
            "                   [--grpc_data_provider PORT] [--purge_orphaned_data BOOL]\n",
            "                   [--db URI] [--db_import] [--inspect] [--version_tb]\n",
            "                   [--tag TAG] [--event_file PATH] [--path_prefix PATH]\n",
            "                   [--window_title TEXT] [--max_reload_threads COUNT]\n",
            "                   [--reload_interval SECONDS] [--reload_task TYPE]\n",
            "                   [--reload_multifile BOOL]\n",
            "                   [--reload_multifile_inactive_secs SECONDS]\n",
            "                   [--generic_data TYPE]\n",
            "                   [--samples_per_plugin SAMPLES_PER_PLUGIN]\n",
            "                   [--whatif-use-unsafe-custom-prediction YOUR_CUSTOM_PREDICT_FUNCTION.py]\n",
            "                   [--whatif-data-dir PATH]\n",
            "                   {serve,dev} ...\n",
            "\n",
            "TensorBoard is a suite of web applications for inspecting and understanding\n",
            "your TensorFlow runs and graphs. https://github.com/tensorflow/tensorboard\n",
            "\n",
            "positional arguments:\n",
            "  {serve,dev}           TensorBoard subcommand (defaults to 'serve')\n",
            "    serve               start local TensorBoard server (default subcommand)\n",
            "    dev                 upload data to TensorBoard.dev\n",
            "\n",
            "optional arguments:\n",
            "  -h, --help            show this help message and exit\n",
            "  --helpfull            show full help message and exit\n",
            "  --logdir PATH         Directory where TensorBoard will look to find\n",
            "                        TensorFlow event files that it can display.\n",
            "                        TensorBoard will recursively walk the directory\n",
            "                        structure rooted at logdir, looking for .*tfevents.*\n",
            "                        files. A leading tilde will be expanded with the\n",
            "                        semantics of Python's os.expanduser function.\n",
            "  --logdir_spec PATH_SPEC\n",
            "                        Like `--logdir`, but with special interpretation for\n",
            "                        commas and colons: commas separate multiple runs,\n",
            "                        where a colon specifies a new name for a run. For\n",
            "                        example: `tensorboard --logdir_spec=name1:/path/to/log\n",
            "                        s/1,name2:/path/to/logs/2`. This flag is discouraged\n",
            "                        and can usually be avoided. TensorBoard walks log\n",
            "                        directories recursively; for finer-grained control,\n",
            "                        prefer using a symlink tree. Some features may not\n",
            "                        work when using `--logdir_spec` instead of `--logdir`.\n",
            "  --host ADDR           What host to listen to (default: localhost). To serve\n",
            "                        to the entire local network on both IPv4 and IPv6, see\n",
            "                        `--bind_all`, with which this option is mutually\n",
            "                        exclusive.\n",
            "  --bind_all            Serve on all public interfaces. This will expose your\n",
            "                        TensorBoard instance to the network on both IPv4 and\n",
            "                        IPv6 (where available). Mutually exclusive with\n",
            "                        `--host`.\n",
            "  --port PORT           Port to serve TensorBoard on. Pass 0 to request an\n",
            "                        unused port selected by the operating system, or pass\n",
            "                        \"default\" to try to bind to the default port (6006)\n",
            "                        but search for a nearby free port if the default port\n",
            "                        is unavailable. (default: \"default\").\n",
            "  --reuse_port BOOL     Enables the SO_REUSEPORT option on the socket opened\n",
            "                        by TensorBoard's HTTP server, for platforms that\n",
            "                        support it. This is useful in cases when a parent\n",
            "                        process has obtained the port already and wants to\n",
            "                        delegate access to the port to TensorBoard as a\n",
            "                        subprocess.(default: False).\n",
            "  --load_fast {false,auto,true}\n",
            "                        Use alternate mechanism to load data. Typically 100x\n",
            "                        faster or more, but only available on some platforms\n",
            "                        and invocations. Defaults to \"auto\" to use this new\n",
            "                        mode only if available, otherwise falling back to the\n",
            "                        legacy loading path. Set to \"true\" to suppress the\n",
            "                        advisory note and hard-fail if the fast codepath is\n",
            "                        not available. Set to \"false\" to always fall back.\n",
            "                        Feedback/issues:\n",
            "                        https://github.com/tensorflow/tensorboard/issues/4784\n",
            "                        (default: auto)\n",
            "  --extra_data_server_flags EXTRA_DATA_SERVER_FLAGS\n",
            "                        Experimental. With `--load_fast`, pass these\n",
            "                        additional command-line flags to the data server.\n",
            "                        Subject to POSIX word splitting per `shlex.split`.\n",
            "                        Meant for debugging; not officially supported.\n",
            "  --grpc_creds_type {local,ssl,ssl_dev}\n",
            "                        Experimental. The type of credentials to use to\n",
            "                        connect to the data server. (default: local)\n",
            "  --grpc_data_provider PORT\n",
            "                        Experimental. Address of a gRPC server exposing a data\n",
            "                        provider. Set to empty string to disable. (default: )\n",
            "  --purge_orphaned_data BOOL\n",
            "                        Whether to purge data that may have been orphaned due\n",
            "                        to TensorBoard restarts. Setting\n",
            "                        --purge_orphaned_data=False can be used to debug data\n",
            "                        disappearance. (default: True)\n",
            "  --db URI              [experimental] sets SQL database URI and enables DB\n",
            "                        backend mode, which is read-only unless --db_import is\n",
            "                        also passed.\n",
            "  --db_import           [experimental] enables DB read-and-import mode, which\n",
            "                        in combination with --logdir imports event files into\n",
            "                        a DB backend on the fly. The backing DB is temporary\n",
            "                        unless --db is also passed to specify a DB path to\n",
            "                        use.\n",
            "  --inspect             Prints digests of event files to command line. This is\n",
            "                        useful when no data is shown on TensorBoard, or the\n",
            "                        data shown looks weird. Must specify one of `logdir`\n",
            "                        or `event_file` flag. Example usage: `tensorboard\n",
            "                        --inspect --logdir mylogdir --tag loss` See tensorboar\n",
            "                        d/backend/event_processing/event_file_inspector.py for\n",
            "                        more info.\n",
            "  --version_tb          Prints the version of Tensorboard\n",
            "  --tag TAG             tag to query for; used with --inspect\n",
            "  --event_file PATH     The particular event file to query for. Only used if\n",
            "                        --inspect is present and --logdir is not specified.\n",
            "  --path_prefix PATH    An optional, relative prefix to the path, e.g.\n",
            "                        \"/path/to/tensorboard\". resulting in the new base url\n",
            "                        being located at localhost:6006/path/to/tensorboard\n",
            "                        under default settings. A leading slash is required\n",
            "                        when specifying the path_prefix. A trailing slash is\n",
            "                        optional and has no effect. The path_prefix can be\n",
            "                        leveraged for path based routing of an ELB when the\n",
            "                        website base_url is not available e.g.\n",
            "                        \"example.site.com/path/to/tensorboard/\".\n",
            "  --window_title TEXT   changes title of browser window\n",
            "  --max_reload_threads COUNT\n",
            "                        The max number of threads that TensorBoard can use to\n",
            "                        reload runs. Not relevant for db read-only mode. Each\n",
            "                        thread reloads one run at a time. (default: 1)\n",
            "  --reload_interval SECONDS\n",
            "                        How often the backend should load more data, in\n",
            "                        seconds. Set to 0 to load just once at startup. Must\n",
            "                        be non-negative. (default: 5.0)\n",
            "  --reload_task TYPE    [experimental] The mechanism to use for the background\n",
            "                        data reload task. The default \"auto\" option will\n",
            "                        conditionally use threads for legacy reloading and a\n",
            "                        child process for DB import reloading. The \"process\"\n",
            "                        option is only useful with DB import mode. The\n",
            "                        \"blocking\" option will block startup until reload\n",
            "                        finishes, and requires --load_interval=0. (default:\n",
            "                        auto)\n",
            "  --reload_multifile BOOL\n",
            "                        [experimental] If true, this enables experimental\n",
            "                        support for continuously polling multiple event files\n",
            "                        in each run directory for newly appended data (rather\n",
            "                        than only polling the last event file). Event files\n",
            "                        will only be polled as long as their most recently\n",
            "                        read data is newer than the threshold defined by\n",
            "                        --reload_multifile_inactive_secs, to limit resource\n",
            "                        usage. Beware of running out of memory if the logdir\n",
            "                        contains many active event files. (default: false)\n",
            "  --reload_multifile_inactive_secs SECONDS\n",
            "                        [experimental] Configures the age threshold in seconds\n",
            "                        at which an event file that has no event wall time\n",
            "                        more recent than that will be considered an inactive\n",
            "                        file and no longer polled (to limit resource usage).\n",
            "                        If set to -1, no maximum age will be enforced, but\n",
            "                        beware of running out of memory and heavier filesystem\n",
            "                        read traffic. If set to 0, this reverts to the older\n",
            "                        last-file-only polling strategy (akin to\n",
            "                        --reload_multifile=false). (default: 86400 - intended\n",
            "                        to ensure an event file remains active if it receives\n",
            "                        new data at least once per 24 hour period)\n",
            "  --generic_data TYPE   [experimental] Hints whether plugins should read from\n",
            "                        generic data provider infrastructure. For plugins that\n",
            "                        support only the legacy multiplexer APIs or only the\n",
            "                        generic data APIs, this option has no effect. The\n",
            "                        \"auto\" option enables this only for plugins that are\n",
            "                        considered to have stable support for generic data\n",
            "                        providers. (default: auto)\n",
            "  --samples_per_plugin SAMPLES_PER_PLUGIN\n",
            "                        An optional comma separated list of\n",
            "                        plugin_name=num_samples pairs to explicitly specify\n",
            "                        how many samples to keep per tag for that plugin. For\n",
            "                        unspecified plugins, TensorBoard randomly downsamples\n",
            "                        logged summaries to reasonable values to prevent out-\n",
            "                        of-memory errors for long running jobs. This flag\n",
            "                        allows fine control over that downsampling. Note that\n",
            "                        0 means keep all samples of that type. For instance\n",
            "                        \"scalars=500,images=0\" keeps 500 scalars and all\n",
            "                        images. Most users should not need to set this flag.\n",
            "\n",
            "what-if-tool:\n",
            "  --whatif-use-unsafe-custom-prediction YOUR_CUSTOM_PREDICT_FUNCTION.py\n",
            "                        The file location of your custom prediction function.\n",
            "                        Note that the flag executes arbitrary code, so make\n",
            "                        sure you passed the correct file location. See how to\n",
            "                        define the function in https://github.com/PAIR-\n",
            "                        code/what-if-tool/blob/master/README.md\n",
            "  --whatif-data-dir PATH\n",
            "                        An optional additional directory under which the What-\n",
            "                        If Tool can load example data from, outside of the\n",
            "                        TensorBoard logdir.\n"
          ],
          "name": "stdout"
        }
      ]
    },
    {
      "cell_type": "code",
      "metadata": {
        "id": "M9wxypdVhgSe"
      },
      "source": [
        ""
      ],
      "execution_count": null,
      "outputs": []
    }
  ]
}