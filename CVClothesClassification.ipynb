{
  "nbformat": 4,
  "nbformat_minor": 0,
  "metadata": {
    "colab": {
      "name": "CVClothesClassification.ipynb",
      "provenance": [],
      "authorship_tag": "ABX9TyON6To+yN7Z5CP7NMzcggVb",
      "include_colab_link": true
    },
    "kernelspec": {
      "name": "python3",
      "display_name": "Python 3"
    },
    "language_info": {
      "name": "python"
    }
  },
  "cells": [
    {
      "cell_type": "markdown",
      "metadata": {
        "id": "view-in-github",
        "colab_type": "text"
      },
      "source": [
        "<a href=\"https://colab.research.google.com/github/Jakubelo/ClothesClassifier/blob/main/CVClothesClassification.ipynb\" target=\"_parent\"><img src=\"https://colab.research.google.com/assets/colab-badge.svg\" alt=\"Open In Colab\"/></a>"
      ]
    },
    {
      "cell_type": "code",
      "metadata": {
        "colab": {
          "base_uri": "https://localhost:8080/"
        },
        "id": "GDsjT4dtdvl4",
        "outputId": "fd72e170-1678-4c50-9edf-8d8fc8e3c79d"
      },
      "source": [
        "from google.colab import drive\n",
        "drive.mount('/content/gdrive')"
      ],
      "execution_count": 1,
      "outputs": [
        {
          "output_type": "stream",
          "text": [
            "Drive already mounted at /content/gdrive; to attempt to forcibly remount, call drive.mount(\"/content/gdrive\", force_remount=True).\n"
          ],
          "name": "stdout"
        }
      ]
    },
    {
      "cell_type": "code",
      "metadata": {
        "colab": {
          "base_uri": "https://localhost:8080/"
        },
        "id": "66TEc9wud3yW",
        "outputId": "47774e97-38bc-420f-f6d7-0e9752686e17"
      },
      "source": [
        "! unzip 'gdrive/MyDrive/ClothesData/archive.zip'"
      ],
      "execution_count": 2,
      "outputs": [
        {
          "output_type": "stream",
          "text": [
            "Archive:  gdrive/MyDrive/ClothesData/archive.zip\n",
            "replace images.csv? [y]es, [n]o, [A]ll, [N]one, [r]ename: N\n"
          ],
          "name": "stdout"
        }
      ]
    },
    {
      "cell_type": "code",
      "metadata": {
        "colab": {
          "base_uri": "https://localhost:8080/"
        },
        "id": "FqKSHPbOaO4_",
        "outputId": "60313219-5e26-49c0-e71e-ac6dfb3f3a50"
      },
      "source": [
        "import pandas as pd\n",
        "! pip install pandas-flavor\n",
        "import pandas_flavor as pf\n",
        "import seaborn as sns\n",
        "import matplotlib.pyplot as plt\n",
        "\n",
        "import torch\n",
        "import torchvision\n",
        "from torch.utils.tensorboard import SummaryWriter as SW"
      ],
      "execution_count": 3,
      "outputs": [
        {
          "output_type": "stream",
          "text": [
            "Requirement already satisfied: pandas-flavor in /usr/local/lib/python3.7/dist-packages (0.2.0)\n",
            "Requirement already satisfied: xarray in /usr/local/lib/python3.7/dist-packages (from pandas-flavor) (0.18.2)\n",
            "Requirement already satisfied: pandas in /usr/local/lib/python3.7/dist-packages (from pandas-flavor) (1.1.5)\n",
            "Requirement already satisfied: numpy>=1.17 in /usr/local/lib/python3.7/dist-packages (from xarray->pandas-flavor) (1.19.5)\n",
            "Requirement already satisfied: setuptools>=40.4 in /usr/local/lib/python3.7/dist-packages (from xarray->pandas-flavor) (56.1.0)\n",
            "Requirement already satisfied: pytz>=2017.2 in /usr/local/lib/python3.7/dist-packages (from pandas->pandas-flavor) (2018.9)\n",
            "Requirement already satisfied: python-dateutil>=2.7.3 in /usr/local/lib/python3.7/dist-packages (from pandas->pandas-flavor) (2.8.1)\n",
            "Requirement already satisfied: six>=1.5 in /usr/local/lib/python3.7/dist-packages (from python-dateutil>=2.7.3->pandas->pandas-flavor) (1.15.0)\n"
          ],
          "name": "stdout"
        }
      ]
    },
    {
      "cell_type": "markdown",
      "metadata": {
        "id": "2QrYYrjoEgwY"
      },
      "source": [
        "# EDA of data"
      ]
    },
    {
      "cell_type": "code",
      "metadata": {
        "colab": {
          "base_uri": "https://localhost:8080/",
          "height": 142
        },
        "id": "aNdP9bazgUsG",
        "outputId": "f9c3e53a-980f-460d-e77e-9be169a01909"
      },
      "source": [
        "df = pd.read_csv('/content/images.csv')\n",
        "df.head(3)"
      ],
      "execution_count": 19,
      "outputs": [
        {
          "output_type": "execute_result",
          "data": {
            "text/html": [
              "<div>\n",
              "<style scoped>\n",
              "    .dataframe tbody tr th:only-of-type {\n",
              "        vertical-align: middle;\n",
              "    }\n",
              "\n",
              "    .dataframe tbody tr th {\n",
              "        vertical-align: top;\n",
              "    }\n",
              "\n",
              "    .dataframe thead th {\n",
              "        text-align: right;\n",
              "    }\n",
              "</style>\n",
              "<table border=\"1\" class=\"dataframe\">\n",
              "  <thead>\n",
              "    <tr style=\"text-align: right;\">\n",
              "      <th></th>\n",
              "      <th>image</th>\n",
              "      <th>sender_id</th>\n",
              "      <th>label</th>\n",
              "      <th>kids</th>\n",
              "    </tr>\n",
              "  </thead>\n",
              "  <tbody>\n",
              "    <tr>\n",
              "      <th>0</th>\n",
              "      <td>4285fab0-751a-4b74-8e9b-43af05deee22</td>\n",
              "      <td>124</td>\n",
              "      <td>Not sure</td>\n",
              "      <td>False</td>\n",
              "    </tr>\n",
              "    <tr>\n",
              "      <th>1</th>\n",
              "      <td>ea7b6656-3f84-4eb3-9099-23e623fc1018</td>\n",
              "      <td>148</td>\n",
              "      <td>T-Shirt</td>\n",
              "      <td>False</td>\n",
              "    </tr>\n",
              "    <tr>\n",
              "      <th>2</th>\n",
              "      <td>00627a3f-0477-401c-95eb-92642cbe078d</td>\n",
              "      <td>94</td>\n",
              "      <td>Not sure</td>\n",
              "      <td>False</td>\n",
              "    </tr>\n",
              "  </tbody>\n",
              "</table>\n",
              "</div>"
            ],
            "text/plain": [
              "                                  image  sender_id     label   kids\n",
              "0  4285fab0-751a-4b74-8e9b-43af05deee22        124  Not sure  False\n",
              "1  ea7b6656-3f84-4eb3-9099-23e623fc1018        148   T-Shirt  False\n",
              "2  00627a3f-0477-401c-95eb-92642cbe078d         94  Not sure  False"
            ]
          },
          "metadata": {
            "tags": []
          },
          "execution_count": 19
        }
      ]
    },
    {
      "cell_type": "code",
      "metadata": {
        "colab": {
          "base_uri": "https://localhost:8080/"
        },
        "id": "621_gfT3BtfC",
        "outputId": "797c7a4a-683d-45ae-c7c0-9331708cfbd7"
      },
      "source": [
        "df.info()"
      ],
      "execution_count": 5,
      "outputs": [
        {
          "output_type": "stream",
          "text": [
            "<class 'pandas.core.frame.DataFrame'>\n",
            "RangeIndex: 5403 entries, 0 to 5402\n",
            "Data columns (total 4 columns):\n",
            " #   Column     Non-Null Count  Dtype \n",
            "---  ------     --------------  ----- \n",
            " 0   image      5403 non-null   object\n",
            " 1   sender_id  5403 non-null   int64 \n",
            " 2   label      5403 non-null   object\n",
            " 3   kids       5403 non-null   bool  \n",
            "dtypes: bool(1), int64(1), object(2)\n",
            "memory usage: 132.0+ KB\n"
          ],
          "name": "stdout"
        }
      ]
    },
    {
      "cell_type": "code",
      "metadata": {
        "colab": {
          "base_uri": "https://localhost:8080/",
          "height": 265
        },
        "id": "Gb6zH2plBz5h",
        "outputId": "5f154886-63b6-46dd-fb77-9944c3e820f4"
      },
      "source": [
        "labels_stats = df.label.value_counts()\n",
        "g = sns.barplot(x=labels_stats.values, y=labels_stats.index, orient='h')\n",
        "plt.grid(axis='x')\n",
        "plt.show()"
      ],
      "execution_count": 6,
      "outputs": [
        {
          "output_type": "display_data",
          "data": {
            "image/png": "[encoded data removed]",
            "text/plain": [
              "<Figure size 432x288 with 1 Axes>"
            ]
          },
          "metadata": {
            "tags": [],
            "needs_background": "light"
          }
        }
      ]
    },
    {
      "cell_type": "markdown",
      "metadata": {
        "id": "TO5BdlI6EOac"
      },
      "source": [
        "The data is strongly imbalanced. Few of the categories are  not clear('Not sure' and \"other\" categories). The \"Not sure\" category has significant part of dataset, that might causing some confusion in learning"
      ]
    },
    {
      "cell_type": "code",
      "metadata": {
        "colab": {
          "base_uri": "https://localhost:8080/"
        },
        "id": "-q4y74hNGzQd",
        "outputId": "04d5075b-0fe6-429e-b332-887808192b8b"
      },
      "source": [
        "df.kids.value_counts()"
      ],
      "execution_count": 7,
      "outputs": [
        {
          "output_type": "execute_result",
          "data": {
            "text/plain": [
              "False    4927\n",
              "True      476\n",
              "Name: kids, dtype: int64"
            ]
          },
          "metadata": {
            "tags": []
          },
          "execution_count": 7
        }
      ]
    },
    {
      "cell_type": "markdown",
      "metadata": {
        "id": "h4HnfnPBG476"
      },
      "source": [
        "The \"kids\" column can be applied as metadata, but the question is - Is it neccesary? - The \"kids\" label might introduce some explainability to the model when a input **is** or **not** \"picture of kids clothes\". Let's take a look for the Bernoulli distribution of each class with kids label."
      ]
    },
    {
      "cell_type": "code",
      "metadata": {
        "id": "a65lSxOJKMMw"
      },
      "source": [
        "def bernoulli(data, category:str):\n",
        "  '''data = (categories_list, k_label)'''\n",
        "  i = 0\n",
        "  all_in_category = 0\n",
        "  for row_index in range(len(data[0])):\n",
        "    if data[0][row_index] == category and data[1][row_index]:\n",
        "      i+=1\n",
        "    \n",
        "    all_in_category+=1\n",
        "\n",
        "  return i/all_in_category\n",
        "\n",
        "@pf.register.register_dataframe_method\n",
        "def bernoulli_list(data:pd.DataFrame,\n",
        "                   categories_column:str,\n",
        "                   k_labels:str):\n",
        "  li_of_p = []\n",
        "  categories = data[categories_column].unique()\n",
        "  data_for_func = (data[categories_column].values, data[k_labels].values)\n",
        "  for category in categories:\n",
        "    li_of_p.append(\n",
        "        bernoulli(data_for_func, category)\n",
        "        )\n",
        "\n",
        "  return pd.DataFrame({\n",
        "      'p':li_of_p, \n",
        "      'category':categories\n",
        "      }).sort_values(by='p', ascending=False).reset_index()\n"
      ],
      "execution_count": 8,
      "outputs": []
    },
    {
      "cell_type": "code",
      "metadata": {
        "colab": {
          "base_uri": "https://localhost:8080/",
          "height": 295
        },
        "id": "L6xyCuV2VWhQ",
        "outputId": "1220313a-765b-4d12-db04-13f646a0ca6e"
      },
      "source": [
        "bernoulli_dist = df.bernoulli_list('label', 'kids')\n",
        "\n",
        "sns.barplot(x=bernoulli_dist.p, y=bernoulli_dist.category, orient='h')\n",
        "plt.title('Significance of \"p\" of bernoulli distribution')\n",
        "plt.grid()\n",
        "plt.show()"
      ],
      "execution_count": 9,
      "outputs": [
        {
          "output_type": "display_data",
          "data": {
            "image/png": "[encoded data removed]",
            "text/plain": [
              "<Figure size 432x288 with 1 Axes>"
            ]
          },
          "metadata": {
            "tags": [],
            "needs_background": "light"
          }
        }
      ]
    },
    {
      "cell_type": "markdown",
      "metadata": {
        "id": "w6KQY4z0YJlf"
      },
      "source": [
        "The Analysis of distribution shows,there is no correlation or causation with 'Not sure', 'Other' or others categories. The kid label is useless in our purpose of the model."
      ]
    },
    {
      "cell_type": "code",
      "metadata": {
        "colab": {
          "base_uri": "https://localhost:8080/",
          "height": 142
        },
        "id": "NgzDlSuba_rI",
        "outputId": "24f72f68-b7e2-4641-ad5e-f7b655bd1862"
      },
      "source": [
        "df = df.drop(columns=['sender_id', 'kids'])\n",
        "df.head(3)"
      ],
      "execution_count": 20,
      "outputs": [
        {
          "output_type": "execute_result",
          "data": {
            "text/html": [
              "<div>\n",
              "<style scoped>\n",
              "    .dataframe tbody tr th:only-of-type {\n",
              "        vertical-align: middle;\n",
              "    }\n",
              "\n",
              "    .dataframe tbody tr th {\n",
              "        vertical-align: top;\n",
              "    }\n",
              "\n",
              "    .dataframe thead th {\n",
              "        text-align: right;\n",
              "    }\n",
              "</style>\n",
              "<table border=\"1\" class=\"dataframe\">\n",
              "  <thead>\n",
              "    <tr style=\"text-align: right;\">\n",
              "      <th></th>\n",
              "      <th>image</th>\n",
              "      <th>label</th>\n",
              "    </tr>\n",
              "  </thead>\n",
              "  <tbody>\n",
              "    <tr>\n",
              "      <th>0</th>\n",
              "      <td>4285fab0-751a-4b74-8e9b-43af05deee22</td>\n",
              "      <td>Not sure</td>\n",
              "    </tr>\n",
              "    <tr>\n",
              "      <th>1</th>\n",
              "      <td>ea7b6656-3f84-4eb3-9099-23e623fc1018</td>\n",
              "      <td>T-Shirt</td>\n",
              "    </tr>\n",
              "    <tr>\n",
              "      <th>2</th>\n",
              "      <td>00627a3f-0477-401c-95eb-92642cbe078d</td>\n",
              "      <td>Not sure</td>\n",
              "    </tr>\n",
              "  </tbody>\n",
              "</table>\n",
              "</div>"
            ],
            "text/plain": [
              "                                  image     label\n",
              "0  4285fab0-751a-4b74-8e9b-43af05deee22  Not sure\n",
              "1  ea7b6656-3f84-4eb3-9099-23e623fc1018   T-Shirt\n",
              "2  00627a3f-0477-401c-95eb-92642cbe078d  Not sure"
            ]
          },
          "metadata": {
            "tags": []
          },
          "execution_count": 20
        }
      ]
    },
    {
      "cell_type": "markdown",
      "metadata": {
        "id": "8LWTzry7bhMT"
      },
      "source": [
        "# Data processing"
      ]
    },
    {
      "cell_type": "code",
      "metadata": {
        "id": "nBGlvw_vcAtZ"
      },
      "source": [
        "from torch.utils.data import Dataset\n",
        "from torchvision.io import read_image\n",
        "from torchvision.transforms import ToTensor\n",
        "import os\n",
        "from sklearn.preprocessing import LabelEncoder\n",
        "from sklearn.model_selection import train_test_split\n",
        "from torch.utils.data import DataLoader\n",
        "\n",
        "\n",
        "class ImageDataset(Dataset):\n",
        "    def __init__(self, image_labels:pd.Series, img_dir, transform=None, target_transform=None):\n",
        "        self.img_labels = image_labels\n",
        "        self.img_dir = img_dir\n",
        "        self.transform = transform\n",
        "        self.target_transform = target_transform\n",
        "\n",
        "    def __len__(self):\n",
        "        return len(self.img_labels)\n",
        "\n",
        "    def __getitem__(self, idx):\n",
        "        img_path = os.path.join(self.img_dir, self.img_labels.loc[idx, 'image'])\n",
        "        image = read_image(img_path+'.jpg')\n",
        "        label = self.img_labels.loc[idx, 'label']\n",
        "        if self.transform:\n",
        "            image = self.transform(image)\n",
        "        if self.target_transform:\n",
        "            label = self.target_transform(label)\n",
        "        return image, label"
      ],
      "execution_count": 66,
      "outputs": []
    },
    {
      "cell_type": "code",
      "metadata": {
        "id": "u5k7upUPfcCE"
      },
      "source": [
        "imgs_dir = '/content/images_compressed/'\n",
        "df = df.rename(columns={'label': 'label_str'})\n",
        "df['label'] = LabelEncoder().fit_transform(df.label_str)"
      ],
      "execution_count": 26,
      "outputs": []
    },
    {
      "cell_type": "code",
      "metadata": {
        "id": "_kL-24T8m3NE"
      },
      "source": [
        "train, test = train_test_split(df, test_size=0.25, shuffle=True)\n",
        "train_data = ImageDataset(image_labels=train, img_dir=imgs_dir)\n",
        "test_data = ImageDataset(image_labels=test, img_dir=imgs_dir)"
      ],
      "execution_count": 70,
      "outputs": []
    },
    {
      "cell_type": "code",
      "metadata": {
        "colab": {
          "base_uri": "https://localhost:8080/",
          "height": 286
        },
        "id": "U3kRTfS4xSm-",
        "outputId": "bf6f462e-2ad2-4fc2-d9de-64db93f835ae"
      },
      "source": [
        "img = train_data[1][0]\n",
        "plt.imshow(img.permute(1, 2, 0))"
      ],
      "execution_count": 71,
      "outputs": [
        {
          "output_type": "execute_result",
          "data": {
            "text/plain": [
              "<matplotlib.image.AxesImage at 0x7f187ea30850>"
            ]
          },
          "metadata": {
            "tags": []
          },
          "execution_count": 71
        },
        {
          "output_type": "display_data",
          "data": {
            "image/png": "[encoded data removed]",
            "text/plain": [
              "<Figure size 432x288 with 1 Axes>"
            ]
          },
          "metadata": {
            "tags": [],
            "needs_background": "light"
          }
        }
      ]
    },
    {
      "cell_type": "code",
      "metadata": {
        "id": "ukpwwZtI2XEg"
      },
      "source": [
        "train_dataloader = DataLoader(train_data, batch_size=32, shuffle=True)\n",
        "test_dataloader = DataLoader(test_data, batch_size=32, shuffle=True)"
      ],
      "execution_count": 72,
      "outputs": []
    },
    {
      "cell_type": "code",
      "metadata": {
        "colab": {
          "base_uri": "https://localhost:8080/"
        },
        "id": "Vj7dtXVvjIzs",
        "outputId": "6fc38542-3f6a-46ff-cb16-f6218a35dda5"
      },
      "source": [
        "SW('/content/gdrive/MyDrive/Colab Notebooks/CNN/runs')"
      ],
      "execution_count": 65,
      "outputs": [
        {
          "output_type": "execute_result",
          "data": {
            "text/plain": [
              "<torch.utils.tensorboard.writer.SummaryWriter at 0x7f67778c8090>"
            ]
          },
          "metadata": {
            "tags": []
          },
          "execution_count": 65
        }
      ]
    },
    {
      "cell_type": "code",
      "metadata": {
        "colab": {
          "base_uri": "https://localhost:8080/"
        },
        "id": "iaeHAYULhea_",
        "outputId": "aaa21c90-918a-4a15-a8ca-42be128d368a"
      },
      "source": [
        "! tensorboard --help"
      ],
      "execution_count": 13,
      "outputs": [
        {
          "output_type": "stream",
          "text": [
            "2021-05-28 15:12:26.958283: I tensorflow/stream_executor/platform/default/dso_loader.cc:53] Successfully opened dynamic library libcudart.so.11.0\n",
            "usage: tensorboard [-h] [--helpfull] [--logdir PATH] [--logdir_spec PATH_SPEC]\n",
            "                   [--host ADDR] [--bind_all] [--port PORT]\n",
            "                   [--reuse_port BOOL] [--load_fast {false,auto,true}]\n",
            "                   [--extra_data_server_flags EXTRA_DATA_SERVER_FLAGS]\n",
            "                   [--grpc_creds_type {local,ssl,ssl_dev}]\n",
            "                   [--grpc_data_provider PORT] [--purge_orphaned_data BOOL]\n",
            "                   [--db URI] [--db_import] [--inspect] [--version_tb]\n",
            "                   [--tag TAG] [--event_file PATH] [--path_prefix PATH]\n",
            "                   [--window_title TEXT] [--max_reload_threads COUNT]\n",
            "                   [--reload_interval SECONDS] [--reload_task TYPE]\n",
            "                   [--reload_multifile BOOL]\n",
            "                   [--reload_multifile_inactive_secs SECONDS]\n",
            "                   [--generic_data TYPE]\n",
            "                   [--samples_per_plugin SAMPLES_PER_PLUGIN]\n",
            "                   [--whatif-use-unsafe-custom-prediction YOUR_CUSTOM_PREDICT_FUNCTION.py]\n",
            "                   [--whatif-data-dir PATH]\n",
            "                   {serve,dev} ...\n",
            "\n",
            "TensorBoard is a suite of web applications for inspecting and understanding\n",
            "your TensorFlow runs and graphs. https://github.com/tensorflow/tensorboard\n",
            "\n",
            "positional arguments:\n",
            "  {serve,dev}           TensorBoard subcommand (defaults to 'serve')\n",
            "    serve               start local TensorBoard server (default subcommand)\n",
            "    dev                 upload data to TensorBoard.dev\n",
            "\n",
            "optional arguments:\n",
            "  -h, --help            show this help message and exit\n",
            "  --helpfull            show full help message and exit\n",
            "  --logdir PATH         Directory where TensorBoard will look to find\n",
            "                        TensorFlow event files that it can display.\n",
            "                        TensorBoard will recursively walk the directory\n",
            "                        structure rooted at logdir, looking for .*tfevents.*\n",
            "                        files. A leading tilde will be expanded with the\n",
            "                        semantics of Python's os.expanduser function.\n",
            "  --logdir_spec PATH_SPEC\n",
            "                        Like `--logdir`, but with special interpretation for\n",
            "                        commas and colons: commas separate multiple runs,\n",
            "                        where a colon specifies a new name for a run. For\n",
            "                        example: `tensorboard --logdir_spec=name1:/path/to/log\n",
            "                        s/1,name2:/path/to/logs/2`. This flag is discouraged\n",
            "                        and can usually be avoided. TensorBoard walks log\n",
            "                        directories recursively; for finer-grained control,\n",
            "                        prefer using a symlink tree. Some features may not\n",
            "                        work when using `--logdir_spec` instead of `--logdir`.\n",
            "  --host ADDR           What host to listen to (default: localhost). To serve\n",
            "                        to the entire local network on both IPv4 and IPv6, see\n",
            "                        `--bind_all`, with which this option is mutually\n",
            "                        exclusive.\n",
            "  --bind_all            Serve on all public interfaces. This will expose your\n",
            "                        TensorBoard instance to the network on both IPv4 and\n",
            "                        IPv6 (where available). Mutually exclusive with\n",
            "                        `--host`.\n",
            "  --port PORT           Port to serve TensorBoard on. Pass 0 to request an\n",
            "                        unused port selected by the operating system, or pass\n",
            "                        \"default\" to try to bind to the default port (6006)\n",
            "                        but search for a nearby free port if the default port\n",
            "                        is unavailable. (default: \"default\").\n",
            "  --reuse_port BOOL     Enables the SO_REUSEPORT option on the socket opened\n",
            "                        by TensorBoard's HTTP server, for platforms that\n",
            "                        support it. This is useful in cases when a parent\n",
            "                        process has obtained the port already and wants to\n",
            "                        delegate access to the port to TensorBoard as a\n",
            "                        subprocess.(default: False).\n",
            "  --load_fast {false,auto,true}\n",
            "                        Use alternate mechanism to load data. Typically 100x\n",
            "                        faster or more, but only available on some platforms\n",
            "                        and invocations. Defaults to \"auto\" to use this new\n",
            "                        mode only if available, otherwise falling back to the\n",
            "                        legacy loading path. Set to \"true\" to suppress the\n",
            "                        advisory note and hard-fail if the fast codepath is\n",
            "                        not available. Set to \"false\" to always fall back.\n",
            "                        Feedback/issues:\n",
            "                        https://github.com/tensorflow/tensorboard/issues/4784\n",
            "                        (default: auto)\n",
            "  --extra_data_server_flags EXTRA_DATA_SERVER_FLAGS\n",
            "                        Experimental. With `--load_fast`, pass these\n",
            "                        additional command-line flags to the data server.\n",
            "                        Subject to POSIX word splitting per `shlex.split`.\n",
            "                        Meant for debugging; not officially supported.\n",
            "  --grpc_creds_type {local,ssl,ssl_dev}\n",
            "                        Experimental. The type of credentials to use to\n",
            "                        connect to the data server. (default: local)\n",
            "  --grpc_data_provider PORT\n",
            "                        Experimental. Address of a gRPC server exposing a data\n",
            "                        provider. Set to empty string to disable. (default: )\n",
            "  --purge_orphaned_data BOOL\n",
            "                        Whether to purge data that may have been orphaned due\n",
            "                        to TensorBoard restarts. Setting\n",
            "                        --purge_orphaned_data=False can be used to debug data\n",
            "                        disappearance. (default: True)\n",
            "  --db URI              [experimental] sets SQL database URI and enables DB\n",
            "                        backend mode, which is read-only unless --db_import is\n",
            "                        also passed.\n",
            "  --db_import           [experimental] enables DB read-and-import mode, which\n",
            "                        in combination with --logdir imports event files into\n",
            "                        a DB backend on the fly. The backing DB is temporary\n",
            "                        unless --db is also passed to specify a DB path to\n",
            "                        use.\n",
            "  --inspect             Prints digests of event files to command line. This is\n",
            "                        useful when no data is shown on TensorBoard, or the\n",
            "                        data shown looks weird. Must specify one of `logdir`\n",
            "                        or `event_file` flag. Example usage: `tensorboard\n",
            "                        --inspect --logdir mylogdir --tag loss` See tensorboar\n",
            "                        d/backend/event_processing/event_file_inspector.py for\n",
            "                        more info.\n",
            "  --version_tb          Prints the version of Tensorboard\n",
            "  --tag TAG             tag to query for; used with --inspect\n",
            "  --event_file PATH     The particular event file to query for. Only used if\n",
            "                        --inspect is present and --logdir is not specified.\n",
            "  --path_prefix PATH    An optional, relative prefix to the path, e.g.\n",
            "                        \"/path/to/tensorboard\". resulting in the new base url\n",
            "                        being located at localhost:6006/path/to/tensorboard\n",
            "                        under default settings. A leading slash is required\n",
            "                        when specifying the path_prefix. A trailing slash is\n",
            "                        optional and has no effect. The path_prefix can be\n",
            "                        leveraged for path based routing of an ELB when the\n",
            "                        website base_url is not available e.g.\n",
            "                        \"example.site.com/path/to/tensorboard/\".\n",
            "  --window_title TEXT   changes title of browser window\n",
            "  --max_reload_threads COUNT\n",
            "                        The max number of threads that TensorBoard can use to\n",
            "                        reload runs. Not relevant for db read-only mode. Each\n",
            "                        thread reloads one run at a time. (default: 1)\n",
            "  --reload_interval SECONDS\n",
            "                        How often the backend should load more data, in\n",
            "                        seconds. Set to 0 to load just once at startup. Must\n",
            "                        be non-negative. (default: 5.0)\n",
            "  --reload_task TYPE    [experimental] The mechanism to use for the background\n",
            "                        data reload task. The default \"auto\" option will\n",
            "                        conditionally use threads for legacy reloading and a\n",
            "                        child process for DB import reloading. The \"process\"\n",
            "                        option is only useful with DB import mode. The\n",
            "                        \"blocking\" option will block startup until reload\n",
            "                        finishes, and requires --load_interval=0. (default:\n",
            "                        auto)\n",
            "  --reload_multifile BOOL\n",
            "                        [experimental] If true, this enables experimental\n",
            "                        support for continuously polling multiple event files\n",
            "                        in each run directory for newly appended data (rather\n",
            "                        than only polling the last event file). Event files\n",
            "                        will only be polled as long as their most recently\n",
            "                        read data is newer than the threshold defined by\n",
            "                        --reload_multifile_inactive_secs, to limit resource\n",
            "                        usage. Beware of running out of memory if the logdir\n",
            "                        contains many active event files. (default: false)\n",
            "  --reload_multifile_inactive_secs SECONDS\n",
            "                        [experimental] Configures the age threshold in seconds\n",
            "                        at which an event file that has no event wall time\n",
            "                        more recent than that will be considered an inactive\n",
            "                        file and no longer polled (to limit resource usage).\n",
            "                        If set to -1, no maximum age will be enforced, but\n",
            "                        beware of running out of memory and heavier filesystem\n",
            "                        read traffic. If set to 0, this reverts to the older\n",
            "                        last-file-only polling strategy (akin to\n",
            "                        --reload_multifile=false). (default: 86400 - intended\n",
            "                        to ensure an event file remains active if it receives\n",
            "                        new data at least once per 24 hour period)\n",
            "  --generic_data TYPE   [experimental] Hints whether plugins should read from\n",
            "                        generic data provider infrastructure. For plugins that\n",
            "                        support only the legacy multiplexer APIs or only the\n",
            "                        generic data APIs, this option has no effect. The\n",
            "                        \"auto\" option enables this only for plugins that are\n",
            "                        considered to have stable support for generic data\n",
            "                        providers. (default: auto)\n",
            "  --samples_per_plugin SAMPLES_PER_PLUGIN\n",
            "                        An optional comma separated list of\n",
            "                        plugin_name=num_samples pairs to explicitly specify\n",
            "                        how many samples to keep per tag for that plugin. For\n",
            "                        unspecified plugins, TensorBoard randomly downsamples\n",
            "                        logged summaries to reasonable values to prevent out-\n",
            "                        of-memory errors for long running jobs. This flag\n",
            "                        allows fine control over that downsampling. Note that\n",
            "                        0 means keep all samples of that type. For instance\n",
            "                        \"scalars=500,images=0\" keeps 500 scalars and all\n",
            "                        images. Most users should not need to set this flag.\n",
            "\n",
            "what-if-tool:\n",
            "  --whatif-use-unsafe-custom-prediction YOUR_CUSTOM_PREDICT_FUNCTION.py\n",
            "                        The file location of your custom prediction function.\n",
            "                        Note that the flag executes arbitrary code, so make\n",
            "                        sure you passed the correct file location. See how to\n",
            "                        define the function in https://github.com/PAIR-\n",
            "                        code/what-if-tool/blob/master/README.md\n",
            "  --whatif-data-dir PATH\n",
            "                        An optional additional directory under which the What-\n",
            "                        If Tool can load example data from, outside of the\n",
            "                        TensorBoard logdir.\n"
          ],
          "name": "stdout"
        }
      ]
    },
    {
      "cell_type": "code",
      "metadata": {
        "id": "M9wxypdVhgSe"
      },
      "source": [
        ""
      ],
      "execution_count": null,
      "outputs": []
    }
  ]
}